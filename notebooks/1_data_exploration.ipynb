{
 "cells": [
  {
   "cell_type": "code",
   "execution_count": null,
   "id": "4ea91908",
   "metadata": {},
   "outputs": [
    {
     "name": "stdout",
     "output_type": "stream",
     "text": [
      "2\n"
     ]
    }
   ],
   "source": [
    "# Data Exploration for Truyện Kiều\n",
    "\n",
    "## 1. Load and Explore the Text\n",
    "\n",
    "import sys\n",
    "sys.path.append('..')  # Add parent directory to path\n",
    "from src.preprocessor import KieuPreprocessor\n",
    "import matplotlib.pyplot as plt\n",
    "import seaborn as sns\n",
    "from collections import Counter\n",
    "import pandas as pd\n",
    "\n",
    "# Load the poem\n",
    "preprocessor = KieuPreprocessor(stopwords_file='../data/vietnamese_stopwords.txt')\n",
    "verses = preprocessor.load_poem('../data/truyen_kieu.txt')\n",
    "\n",
    "# Basic statistics\n",
    "print(f\"Total verses: {len(verses)}\")\n",
    "print(f\"First few verses:\")\n",
    "for i in range(min(5, len(verses))):\n",
    "    print(f\"{i+1}: {verses[i]}\")"
   ]
  },
  {
   "cell_type": "code",
   "execution_count": null,
   "id": "65cc6019",
   "metadata": {},
   "outputs": [],
   "source": [
    "## 2. Analyze Verse Length\n",
    "\n",
    "# Calculate verse lengths\n",
    "verse_lengths = [len(verse) for verse in verses]\n",
    "\n",
    "# Visualize distribution\n",
    "plt.figure(figsize=(10, 6))\n",
    "plt.hist(verse_lengths, bins=20)\n",
    "plt.title('Distribution of Verse Lengths')\n",
    "plt.xlabel('Characters per Verse')\n",
    "plt.ylabel('Frequency')\n",
    "plt.show()"
   ]
  },
  {
   "cell_type": "code",
   "execution_count": null,
   "id": "f267b816",
   "metadata": {},
   "outputs": [],
   "source": [
    "## 3. Word Frequency Analysis\n",
    "\n",
    "# Tokenize and count words\n",
    "tokenized_verses = preprocessor.preprocess_all_verses(verses)\n",
    "all_words = [word for verse in tokenized_verses for word in verse]\n",
    "word_counts = Counter(all_words)\n",
    "\n",
    "# Plot top words\n",
    "top_n = 20\n",
    "top_words = word_counts.most_common(top_n)\n",
    "df = pd.DataFrame(top_words, columns=['Word', 'Count'])\n",
    "\n",
    "plt.figure(figsize=(12, 8))\n",
    "sns.barplot(x='Count', y='Word', data=df)\n",
    "plt.title(f'Top {top_n} Words in Truyện Kiều')\n",
    "plt.show()"
   ]
  }
 ],
 "metadata": {
  "kernelspec": {
   "display_name": "Python 3",
   "language": "python",
   "name": "python3"
  },
  "language_info": {
   "codemirror_mode": {
    "name": "ipython",
    "version": 3
   },
   "file_extension": ".py",
   "mimetype": "text/x-python",
   "name": "python",
   "nbconvert_exporter": "python",
   "pygments_lexer": "ipython3",
   "version": "3.11.9"
  }
 },
 "nbformat": 4,
 "nbformat_minor": 5
}
