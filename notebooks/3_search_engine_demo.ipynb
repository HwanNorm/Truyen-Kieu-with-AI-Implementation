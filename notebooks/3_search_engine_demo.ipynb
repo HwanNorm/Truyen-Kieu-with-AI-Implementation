{
 "cells": [
  {
   "cell_type": "code",
   "execution_count": null,
   "id": "29c89c67",
   "metadata": {},
   "outputs": [],
   "source": [
    "# Search Engine Demo for Truyện Kiều\n",
    "\n",
    "import sys\n",
    "sys.path.append('..')\n",
    "from src.preprocessor import KieuPreprocessor\n",
    "from src.vectorizer import TfidfVectorizer\n",
    "from src.search_engine import KieuSearchEngine\n",
    "\n",
    "# Load and preprocess data\n",
    "preprocessor = KieuPreprocessor(stopwords_file='../data/vietnamese_stopwords.txt')\n",
    "verses = preprocessor.load_poem('../data/truyen_kieu.txt')\n",
    "tokenized_verses = preprocessor.preprocess_all_verses(verses)\n",
    "\n",
    "# Create TF-IDF matrix\n",
    "vectorizer = TfidfVectorizer()\n",
    "tfidf_matrix = vectorizer.fit_transform(tokenized_verses)\n",
    "\n",
    "# Initialize search engine\n",
    "search_engine = KieuSearchEngine(preprocessor, vectorizer, verses, tfidf_matrix)\n",
    "\n",
    "# Demo some searches\n",
    "queries = [\n",
    "    \"vầng trăng\",\n",
    "    \"hồng nhan\",\n",
    "    \"kim trọng\",\n",
    "    \"thúy kiều\"\n",
    "]\n",
    "\n",
    "for query in queries:\n",
    "    print(f\"\\nSearch results for '{query}':\")\n",
    "    results = search_engine.search(query, top_k=5)\n",
    "    for i, (idx, verse, score) in enumerate(results, 1):\n",
    "        print(f\"{i}. [Line {idx+1}] {verse} (score: {score:.4f})\")\n",
    "\n",
    "# Interactive demo - uncomment to use\n",
    "\"\"\"\n",
    "print(\"\\nInteractive Search Mode - Enter 'quit' to exit\")\n",
    "while True:\n",
    "    query = input(\"\\nEnter your query: \")\n",
    "    if query.lower() == 'quit':\n",
    "        break\n",
    "        \n",
    "    results = search_engine.search(query, top_k=5)\n",
    "    if not results:\n",
    "        print(\"No matching verses found.\")\n",
    "    else:\n",
    "        for i, (idx, verse, score) in enumerate(results, 1):\n",
    "            print(f\"{i}. [Line {idx+1}] {verse} (score: {score:.4f})\")\n",
    "\"\"\""
   ]
  }
 ],
 "metadata": {
  "language_info": {
   "name": "python"
  }
 },
 "nbformat": 4,
 "nbformat_minor": 5
}
