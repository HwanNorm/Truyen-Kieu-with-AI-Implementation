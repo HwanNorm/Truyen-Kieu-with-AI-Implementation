{
 "cells": [
  {
   "cell_type": "code",
   "execution_count": null,
   "id": "b8b18fc3",
   "metadata": {},
   "outputs": [],
   "source": [
    "# TF-IDF Visualization for Truyện Kiều\n",
    "\n",
    "import sys\n",
    "sys.path.append('..')\n",
    "from src.preprocessor import KieuPreprocessor\n",
    "from src.vectorizer import TfidfVectorizer\n",
    "import numpy as np\n",
    "import matplotlib.pyplot as plt\n",
    "import seaborn as sns\n",
    "from sklearn.decomposition import TruncatedSVD\n",
    "import pandas as pd\n",
    "\n",
    "# Load and preprocess data\n",
    "preprocessor = KieuPreprocessor(stopwords_file='../data/vietnamese_stopwords.txt')\n",
    "verses = preprocessor.load_poem('../data/truyen_kieu.txt')\n",
    "tokenized_verses = preprocessor.preprocess_all_verses(verses)"
   ]
  },
  {
   "cell_type": "code",
   "execution_count": null,
   "id": "823b183d",
   "metadata": {},
   "outputs": [],
   "source": [
    "# Create TF-IDF matrix\n",
    "vectorizer = TfidfVectorizer()\n",
    "tfidf_matrix = vectorizer.fit_transform(tokenized_verses)\n",
    "\n",
    "# Visualize TF-IDF weights for a sample verse\n",
    "sample_idx = 100  # Choose a verse to analyze\n",
    "sample_verse = verses[sample_idx]\n",
    "print(f\"Sample verse: {sample_verse}\")\n",
    "\n",
    "sample_vector = tfidf_matrix[sample_idx].toarray().flatten()\n",
    "word_indices = np.where(sample_vector > 0)[0]\n",
    "\n",
    "# Get words and their TF-IDF scores\n",
    "words = []\n",
    "scores = []\n",
    "\n",
    "for idx in word_indices:\n",
    "    word = [w for w, i in vectorizer.vocabulary.items() if i == idx][0]\n",
    "    words.append(word)\n",
    "    scores.append(sample_vector[idx])\n",
    "\n",
    "# Sort by score\n",
    "sorted_indices = np.argsort(-np.array(scores))\n",
    "words = [words[i] for i in sorted_indices]\n",
    "scores = [scores[i] for i in sorted_indices]"
   ]
  },
  {
   "cell_type": "code",
   "execution_count": null,
   "id": "6500f17a",
   "metadata": {},
   "outputs": [],
   "source": [
    "# Plot\n",
    "plt.figure(figsize=(10, 6))\n",
    "plt.barh(words, scores)\n",
    "plt.title(f'TF-IDF Scores for Words in Verse {sample_idx+1}')\n",
    "plt.xlabel('TF-IDF Score')\n",
    "plt.ylabel('Words')\n",
    "plt.tight_layout()\n",
    "plt.show()\n",
    "\n",
    "# Dimensionality reduction for visualization\n",
    "svd = TruncatedSVD(n_components=2)\n",
    "tfidf_2d = svd.fit_transform(tfidf_matrix)\n",
    "\n",
    "# Plot verses in 2D space\n",
    "plt.figure(figsize=(12, 10))\n",
    "plt.scatter(tfidf_2d[:, 0], tfidf_2d[:, 1], alpha=0.5)\n",
    "plt.title('Verses in 2D TF-IDF Space')\n",
    "plt.xlabel('Component 1')\n",
    "plt.ylabel('Component 2')\n",
    "plt.show()"
   ]
  }
 ],
 "metadata": {
  "language_info": {
   "name": "python"
  }
 },
 "nbformat": 4,
 "nbformat_minor": 5
}
